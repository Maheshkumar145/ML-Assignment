{
  "nbformat": 4,
  "nbformat_minor": 0,
  "metadata": {
    "colab": {
      "provenance": [],
      "authorship_tag": "ABX9TyMpuWxVNtsaRdGpM68m/qsY",
      "include_colab_link": true
    },
    "kernelspec": {
      "name": "python3",
      "display_name": "Python 3"
    },
    "language_info": {
      "name": "python"
    }
  },
  "cells": [
    {
      "cell_type": "markdown",
      "metadata": {
        "id": "view-in-github",
        "colab_type": "text"
      },
      "source": [
        "<a href=\"https://colab.research.google.com/github/Maheshkumar145/ML-Assignment/blob/main/ML_Assignment_05.ipynb\" target=\"_parent\"><img src=\"https://colab.research.google.com/assets/colab-badge.svg\" alt=\"Open In Colab\"/></a>"
      ]
    },
    {
      "cell_type": "markdown",
      "source": [
        "**1. What are the key tasks that machine learning entails? What does data pre-processing imply?**\n",
        "\n",
        "**Ans:** Data preprocessing is a process of preparing the raw data and making it suitable for a machine learning model. It is the first and crucial step while creating a machine learning model.\n",
        "When creating a machine learning project, it is not always a case that we come across the clean and formatted data."
      ],
      "metadata": {
        "id": "5vumLVR4Pfbx"
      }
    },
    {
      "cell_type": "markdown",
      "source": [
        "**2. Describe quantitative and qualitative data in depth. Make a distinction between the two.**\n",
        "\n",
        "**Ans:**\n",
        "\n",
        "**Quantitative data:** The data collected on the grounds of the numerical variables are quantitative data. Quantitative data are more objective and conclusive in nature.The data is extracted from experiments, surveys, matrices, etc.\n",
        "\n",
        "**Qualitative data:** The data collected on grounds of categorical variables are qualitative data. Qualitative data are more descriptive and conceptual in nature.These data are collected from texts, documents, transcripts, audio and video recordings, etc."
      ],
      "metadata": {
        "id": "5LmTM4-sPeaQ"
      }
    },
    {
      "cell_type": "markdown",
      "source": [
        "**3. What are the various causes of machine learning data issues?**\n",
        "\n",
        "**Ans:** \n",
        "Common issues in Machine Learning:\n",
        "* Inadequate Training Data.\n",
        "* Poor quality of data.\n",
        "* Non-representative training data.\n",
        "* Overfitting and Underfitting \n",
        "* Monitoring and maintenance.\n",
        "* Getting bad recommendations.\n",
        "* Lack of skilled resources.\n",
        "* Customer Segmentation\n",
        "* Process Complexity of Machine Learning\n",
        "* Data Bias\n",
        "* Lack of Explainability\n",
        "* Slow implementations and results\n",
        "* Irrelevant features\n",
        "\n"
      ],
      "metadata": {
        "id": "h14hFVXQPbtn"
      }
    },
    {
      "cell_type": "markdown",
      "source": [
        "**4. Demonstrate various approaches to categorical data exploration with appropriate examples.**\n",
        "\n",
        "**Ans:** Data exploration can be divided into data preprocessing and data visualization. \n",
        "\n",
        "For data preprocessing, we focus on four methods: univariate analysis, missing value treatment, outlier treatment, and collinearity treatment.\n",
        "\n",
        "Data visualization provides a good, organized pictorial representation of the data which makes it easier to understand, observe, analyze."
      ],
      "metadata": {
        "id": "cAU-iaO1PZ4g"
      }
    },
    {
      "cell_type": "markdown",
      "source": [
        "**5. How would the learning activity be affected if certain variables have missing values? Having said that, what can be done about it?**\n",
        "\n",
        "**Ans:** \n",
        "\n",
        "Many machine learning algorithms fail if the dataset contains missing values. However, algorithms like K-nearest and Naive Bayes support data with missing values.\n",
        "You may end up building a biased machine learning model, leading to incorrect results if the missing values are not handled properly.\n",
        "Missing data can lead to a lack of precision in the statistical analysis."
      ],
      "metadata": {
        "id": "fMDt11TLPW4Q"
      }
    },
    {
      "cell_type": "markdown",
      "source": [
        "**6 .Describe the various methods for dealing with missing data values in depth**\n",
        "\n",
        "**Ans:**\n",
        "* Ignore the data row\n",
        "* Use a global constant to fill in for missing values\n",
        "* Use attribute mean\n",
        "* Use attribute mean for all samples belonging to the same class\n",
        "* Use a data mining algorithm to predict the most probable value\n"
      ],
      "metadata": {
        "id": "Ai4JpGx-PVlQ"
      }
    },
    {
      "cell_type": "markdown",
      "source": [
        "**7. What are the various data pre-processing techniques? Explain dimensionality reduction and feature selection in a few words.**\n",
        "\n",
        "**Ans:**\n",
        "**Data pre-processing techniques:**\n",
        "* Data Cleaning\n",
        "* Dimensionality Reduction\n",
        "* Feature Engineering\n",
        "* Sampling Data \n",
        "* Data Transformation\n",
        "* Imbalanced Data \n",
        "\n",
        "**Dimensionality Reduction:**\n",
        "The dimensionality reduction is concerned with reducing the number of input features in training data. \n",
        "\n",
        "**Feature Selection:**\n",
        "Feature selection refers to the process of selecting the most important variables (features) related to your prediction variable, in other words, selecting the attributes which contribute most to your model."
      ],
      "metadata": {
        "id": "hyz5y6hiPSV3"
      }
    },
    {
      "cell_type": "markdown",
      "source": [
        "**8.**\n",
        "**What is the IQR? What criteria are used to assess it?**\n",
        "\n",
        "The interquartile range (IQR) measures the spread of the middle half of your data. It is the range for the middle 50% of your sample. Use the IQR to assess the variability where most of your values lie. Larger values indicate that the central portion of your data spread out further.\n",
        "\n",
        "**Describe the various components of a box plot in detail? When will the lower whisker    surpass the upper whisker in length? How can box plots be used to identify outliers?**\n",
        "\n",
        "A box and whisker plot also called a box plot displays the five-number summary of a set of data. The five-number summary is the minimum, first quartile, median, third quartile, and maximum. In a box plot, we draw a box from the first quartile to the third quartile. A vertical line goes through the box at the median."
      ],
      "metadata": {
        "id": "awl5QRbmPQTt"
      }
    },
    {
      "cell_type": "markdown",
      "source": [
        "**10.Make brief notes on any two of the following:**\n",
        "\n",
        "**Data collected at regular intervals:**\n",
        "\n",
        "Interval data, also called an integer, is defined as a data type which is measured along a scale, in which each point is placed at equal distance from one another. Interval data always appears in the form of numbers or numerical values where the distance between the two points is standardized and equal.\n",
        "\n",
        "**Use a cross-tab:** \n",
        "\n",
        "Cross tabulations are data tables that display not only the results of the entire group of respondents, but also the results from specifically defined subgroups. For this reason, crosstabs allow researchers to closely investigate the relationships within a data set that might otherwise go unnoticed\n"
      ],
      "metadata": {
        "id": "rOEYx6s2PLVl"
      }
    },
    {
      "cell_type": "markdown",
      "source": [
        "**11.Make a comparison between:**\n",
        "\n",
        "**Data with nominal and ordinal values:**\n",
        "\n",
        "Ordinal data is analyzed by mode, median, quartiles, and percentile, whereas nominal data is analyzed by grouping variables into categories and calculating the distribution mode. Nominal data are categorical, whereas Ordinal data are both categorical and quantitative.\n",
        "\n",
        "**Histogram and box plot:**\n",
        "\n",
        "Histograms and box plots are graphical representations for the frequency of numeric data values. They aim to describe the data and explore the central tendency and variability before using advanced statistical analysis techniques.\n",
        "\n",
        "Both histograms and box plots allow to visually assess the central tendency, the amount of variation in the data as well as the presence of gaps, outliers or unusual data points\n",
        "\n",
        "**The average and median:**\n",
        "\n",
        "The average is calculated by adding up all of the individual values and dividing this total by the number of observations. The median is calculated by taking the “middle” value, the value for which half of the observations are larger and half are smaller."
      ],
      "metadata": {
        "id": "PmeMYOLMP6li"
      }
    }
  ]
}