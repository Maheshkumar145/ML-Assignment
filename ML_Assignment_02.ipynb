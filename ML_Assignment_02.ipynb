{
  "nbformat": 4,
  "nbformat_minor": 0,
  "metadata": {
    "colab": {
      "provenance": [],
      "authorship_tag": "ABX9TyOnx1MD/TY+Sky7pXaWHf4I",
      "include_colab_link": true
    },
    "kernelspec": {
      "name": "python3",
      "display_name": "Python 3"
    },
    "language_info": {
      "name": "python"
    }
  },
  "cells": [
    {
      "cell_type": "markdown",
      "metadata": {
        "id": "view-in-github",
        "colab_type": "text"
      },
      "source": [
        "<a href=\"https://colab.research.google.com/github/Maheshkumar145/ML-Assignment/blob/main/ML_Assignment_02.ipynb\" target=\"_parent\"><img src=\"https://colab.research.google.com/assets/colab-badge.svg\" alt=\"Open In Colab\"/></a>"
      ]
    },
    {
      "cell_type": "markdown",
      "source": [
        "**1. What is the concept of human learning? Please give two examples.** \n",
        "\n",
        "**Ans:** Learning is the process of acquiring new understanding, knowledge, behaviors, skills, values, attitudes, and preferences.\n",
        "\n",
        "Examples are type writing,bike riding."
      ],
      "metadata": {
        "id": "bwPxYAqk7jzf"
      }
    },
    {
      "cell_type": "markdown",
      "source": [
        "**2. What different forms of human learning are there? Are there any machine learning equivalents?**\n",
        "\n",
        "**Ans:**  \n",
        "1)      Learning through association  - Classical Conditioning \n",
        "\n",
        "This is similar to unsupervised learning\n",
        "\n",
        "2)      Learning through consequences – Operant Conditioning\n",
        "\n",
        "This is similar Reinforced Learning\n",
        "\n",
        "3)      Learning through observation – Modeling/Observational Learning\n",
        "\n",
        "This is similar to supervised learning"
      ],
      "metadata": {
        "id": "e4_D3fji7ihu"
      }
    },
    {
      "cell_type": "markdown",
      "source": [
        "**3. What is machine learning, and how does it work? What are the key responsibilities of machine learning?** \n",
        "\n",
        "**Ans:** Machine Learning is an AI technique that teaches computers to learn from experience. Machine learning algorithms use computational methods to “learn” information directly from data without relying on a predetermined equation as a model. \n",
        "\n",
        "**Responsibilities:**\n",
        "\n",
        "* Feed a computer algorithm an immense amount of data and have the computer analyze \n",
        "* Make data-driven recommendations\n",
        "* Decisions based on only the input data."
      ],
      "metadata": {
        "id": "DdOEYWt_7hC-"
      }
    },
    {
      "cell_type": "markdown",
      "source": [
        "**4. Define the terms \"penalty\" and \"reward\" in the context of reinforcement learning.**\n",
        "\n",
        "**Ans:** \n",
        "\n",
        "If AI system makes rigth move then its reward.\n",
        "\n",
        "If AI system makes wrong move then its penality."
      ],
      "metadata": {
        "id": "-R7vX9MD7fml"
      }
    },
    {
      "cell_type": "markdown",
      "source": [
        "**5. Explain the term \"learning as a search\"?**\n",
        "\n",
        "**Ans:** Concept learning can be viewed as task of searching through a large number of hypothesis.The goal of this search is to find the hypothesis that best fits the training examples."
      ],
      "metadata": {
        "id": "wsWS48pC7eN9"
      }
    },
    {
      "cell_type": "markdown",
      "source": [
        "**6. What are the various goals of machine learning? What is the relationship between these and human learning?** \n",
        "\n",
        "**Ans:** \n",
        "\n",
        "The primary purpose of machine learning is to discover patterns in the user data and then make predictions based on these and intricate patterns for answering business questions and solving business problems. \n",
        "\n",
        "Machine learning helps in analysing the data as well as identifying trends.\n",
        "\n",
        "ML learn with the data feeded into it while human learn feom observation and experience, so basic idea of learning is same."
      ],
      "metadata": {
        "id": "sfecTo977dDG"
      }
    },
    {
      "cell_type": "markdown",
      "source": [
        "**7. Illustrate the various elements of machine learning using a real-life illustration.**\n",
        "\n",
        "**Ans:** \n",
        "\n",
        "Representation\n",
        "\n",
        "Evaluation\n",
        "\n",
        "Optimization"
      ],
      "metadata": {
        "id": "KsksI3cp7agW"
      }
    },
    {
      "cell_type": "markdown",
      "source": [
        "**8. Provide an example of the abstraction method?**\n",
        "\n",
        "**Ans:** Abstraction is defined as dealing with ideas instead of events. In the context of AI, that means worrying more about what the right algorithm is and less about how to implement it.\n",
        "\n",
        "**Example :** when we are driving a car, we are only concerned about driving the car like start/stop the car, accelerate/ break, etc. But we are not concerned about how mechanism works."
      ],
      "metadata": {
        "id": "BNTcDsnI7YwW"
      }
    },
    {
      "cell_type": "markdown",
      "source": [
        "**9. What is the concept of generalization? What function does it play in the machine learning process?**\n",
        "\n",
        "**Ans:** Generalization refers to the models capability to adapt and react properly to previously unseen, new data, which has been drawn from the same distribution as the one used to build the model. In other words, generalization examines how well a model can digest new data and make correct predictions after getting trained on a training set."
      ],
      "metadata": {
        "id": "4UkSjabD7Xed"
      }
    },
    {
      "cell_type": "markdown",
      "source": [
        "**10.What is classification, exactly? What are the main distinctions between classification and regression?** \n",
        "\n",
        "**Ans:** Classification is a supervised machine learning method where the model tries to predict the correct label of a given input data. In classification, the model is fully trained using the training data, and then it is evaluated on test data before being used to perform prediction on new unseen data.\n",
        "\n",
        "* Regression predict a continuous quantity\n",
        "\n",
        "* Classification predicts discrete class labels"
      ],
      "metadata": {
        "id": "ysLe3V7D7V12"
      }
    },
    {
      "cell_type": "markdown",
      "source": [
        "**11. What is regression, and how does it work? Give an example of a real-world problem that was solved using regression.**\n",
        "\n",
        "**Ans:** Regression is a method for understanding the relationship between independent variables or features and a dependent variable or outcome. Outcomes can then be predicted once the relationship between independent and dependent variables has been estimated.\n",
        "\n",
        "Financial forecasting like stock prices is a example."
      ],
      "metadata": {
        "id": "-RRraTh77UYV"
      }
    },
    {
      "cell_type": "markdown",
      "source": [
        "**12. Describe the clustering mechanism in detail.**\n",
        "\n",
        "**Ans:** Clustering is a unsupervisied learning, a way of grouping the data points into different clusters, consisting of similar data points. The objects with the possible similarities remain in a group that has less or no similarities with another group."
      ],
      "metadata": {
        "id": "p6fDJ48l7SFe"
      }
    }
  ]
}