{
  "nbformat": 4,
  "nbformat_minor": 0,
  "metadata": {
    "colab": {
      "provenance": [],
      "authorship_tag": "ABX9TyO2z7QNjHngNyFf7BAK0wDG",
      "include_colab_link": true
    },
    "kernelspec": {
      "name": "python3",
      "display_name": "Python 3"
    },
    "language_info": {
      "name": "python"
    }
  },
  "cells": [
    {
      "cell_type": "markdown",
      "metadata": {
        "id": "view-in-github",
        "colab_type": "text"
      },
      "source": [
        "<a href=\"https://colab.research.google.com/github/Maheshkumar145/ML-Assignment/blob/main/ML_Assignment_10.ipynb\" target=\"_parent\"><img src=\"https://colab.research.google.com/assets/colab-badge.svg\" alt=\"Open In Colab\"/></a>"
      ]
    },
    {
      "cell_type": "markdown",
      "source": [
        "**1.\tDefine the Bayesian interpretation of probability.**\n",
        "\n",
        "**Ans:**\n",
        "The Bayesian interpretation of probability is a mathematical framework for dealing with uncertain events, where the probability of an event is seen as a measure of the degree of belief or confidence one has in that event, based on available evidence. In other words, it provides a way to update and revise one's beliefs as new evidence becomes available. Bayes' theorem is a fundamental concept in Bayesian statistics, which describes how to calculate the probability of an event given prior knowledge or beliefs and new evidence.\n",
        "\n",
        "\n",
        "\n",
        "\n",
        "\n",
        "\n",
        "\n",
        "\n",
        "\n",
        "\n",
        "\n"
      ],
      "metadata": {
        "id": "DRoWq2cTnnXL"
      }
    },
    {
      "cell_type": "markdown",
      "source": [
        "**2.\tDefine probability of a union of two events with equation.**\n",
        "\n",
        "**Ans:**The probability of the union of two events A and B is given by the equation: P(A ∪ B) = P(A) + P(B) - P(A ∩ B), where P(A) and P(B) are the probabilities of events A and B respectively, and P(A ∩ B) is the probability of their intersection.\n",
        "\n",
        "\n",
        "\n"
      ],
      "metadata": {
        "id": "cKxt1rbKoGqM"
      }
    },
    {
      "cell_type": "markdown",
      "source": [
        "**3.\tWhat is joint probability? What is its formula?**\n",
        "\n",
        "**Ans:** Joint probability is the probability of two or more events occurring together. It is calculated by multiplying the probabilities of the individual events. The formula for joint probability is P(A and B) = P(A) * P(B|A), where P(A) is the probability of event A occurring and P(B|A) is the conditional probability of event B occurring given that event A has occurred."
      ],
      "metadata": {
        "id": "wHStzEzyoEdz"
      }
    },
    {
      "cell_type": "markdown",
      "source": [
        "**4.\tWhat is chain rule of probability?**\n",
        "\n",
        "**Ans:** The chain rule of probability is a way to calculate the probability of multiple events occurring together by breaking it down into conditional probabilities. It states that the probability of events A and B occurring together is equal to the probability of event A multiplied by the probability of event B given that event A has occurred: P(A and B) = P(A) * P(B|A).\n",
        "\n"
      ],
      "metadata": {
        "id": "rzb5WFzWoCmL"
      }
    },
    {
      "cell_type": "markdown",
      "source": [
        "**5.\tWhat is conditional probability means? What is the formula of it?**\n",
        "\n",
        "**Ans:** Conditional probability is the probability of an event occurring given that another event has occurred. It is calculated using the formula: P(A|B) = P(A and B) / P(B), where P(A and B) is the joint probability of events A and B occurring together, and P(B) is the probability of event B occurring.\n",
        "\n"
      ],
      "metadata": {
        "id": "rXQx2ayCoAlT"
      }
    },
    {
      "cell_type": "markdown",
      "source": [
        "**6.\tWhat are continuous random variables?**\n",
        "\n",
        "**Ans:** Continuous random variables are variables that can take on any value within a specified range, as opposed to discrete variables, which can only take on specific values. Examples of continuous random variables include time, temperature, and height.\n",
        "\n"
      ],
      "metadata": {
        "id": "DFYgpDs1n-eT"
      }
    },
    {
      "cell_type": "markdown",
      "source": [
        "**7.\tWhat are Bernoulli distributions? What is the formula of it?**\n",
        "\n",
        "**Ans:** Bernoulli distributions are a type of probability distribution that models the outcome of a single binary experiment, where the result is either success or failure. The formula for a Bernoulli distribution is: P(X = 1) = p, where p is the probability of success and X is a random variable representing the outcome of the experiment.\n"
      ],
      "metadata": {
        "id": "iFR7XZw1n8Yi"
      }
    },
    {
      "cell_type": "markdown",
      "source": [
        "**8.\tWhat is binomial distribution? What is the formula?** \n",
        "\n",
        "**Ans:** \n",
        "Binomial distribution is a type of probability distribution that models the number of successes in a fixed number of independent binary trials. The formula for a binomial distribution is: P(X = k) = (n choose k) * p^k * (1-p)^(n-k), where n is the number of trials, p is the probability of success, X is a random variable representing the number of successes, and (n choose k) is the binomial coefficient.\n",
        "\n"
      ],
      "metadata": {
        "id": "4EKLtE8rn6cy"
      }
    },
    {
      "cell_type": "markdown",
      "source": [
        "**9.\tWhat is Poisson distribution? What is the formula?**\n",
        "\n",
        "**Ans:** Poisson distribution is a type of probability distribution that models the number of rare events occurring in a fixed interval of time or space. The formula for a Poisson distribution is: P(X = k) = (λ^k / k!) * e^(-λ), where λ is the average rate of occurrence, k is the number of events, and e is the mathematical constant.\n",
        "\n"
      ],
      "metadata": {
        "id": "NX7NbFYzn4IC"
      }
    },
    {
      "cell_type": "markdown",
      "source": [
        "**10.\tDefine covariance.**\n",
        "\n",
        "**Ans:** Covariance is a measure of the linear relationship between two random variables. It measures how much the two variables change together, and can be positive or negative. The formula for covariance is: cov(X,Y) = E[(X-E[X])(Y-E[Y])], where X and Y are the random variables and E[X] and E[Y] are their respective means."
      ],
      "metadata": {
        "id": "lalNWaWAn19M"
      }
    },
    {
      "cell_type": "markdown",
      "source": [
        "**11.\tDefine correlation**\n",
        "\n",
        "**Ans:** Correlation is a statistical measure that describes the strength and direction of a relationship between two variables. A correlation coefficient can range from -1 to 1, where -1 indicates a perfect negative correlation, 0 indicates no correlation, and 1 indicates a perfect positive correlation.\n",
        "\n",
        "\n",
        "\n",
        "\n",
        "\n",
        "\n",
        "\n",
        "\n"
      ],
      "metadata": {
        "id": "oVIuSQEin0AC"
      }
    },
    {
      "cell_type": "markdown",
      "source": [
        "**12.\tDefine sampling with replacement. Give example.**\n",
        "\n",
        "**Ans:** Sampling with replacement is a method of selecting a random sample from a population where each member of the population has an equal chance of being selected more than once. For example, if you were to select a random sample of 10 marbles from a bag of 20 marbles with replacement, you could select the same marble multiple times.\n",
        "\n",
        "\n"
      ],
      "metadata": {
        "id": "y5xFBuYCnwva"
      }
    },
    {
      "cell_type": "markdown",
      "source": [
        "**13.\tWhat is sampling without replacement? Give example.** \n",
        "\n",
        "**Ans:** Sampling without replacement is a method of selecting a random sample from a population where each member of the population can only be selected once. For example, if you were to select a random sample of 10 marbles from a bag of 20 marbles without replacement, you could not select the same marble twice.\n",
        "\n"
      ],
      "metadata": {
        "id": "WjtPTI_Rnutj"
      }
    },
    {
      "cell_type": "markdown",
      "source": [
        "**14.\tWhat is hypothesis? Give example.**\n",
        "\n",
        "**Ans:** A hypothesis is a statement that is proposed to explain a phenomenon or relationship between variables. In scientific research, a hypothesis is typically tested through an experiment or observation. For example, a researcher might propose the hypothesis that \"increased exercise leads to improved mental health.\" This hypothesis could be tested by measuring the mental health of a group of participants before and after a period of increased exercise."
      ],
      "metadata": {
        "id": "qjBWk0Y6nsFS"
      }
    }
  ]
}