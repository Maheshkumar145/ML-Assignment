{
  "nbformat": 4,
  "nbformat_minor": 0,
  "metadata": {
    "colab": {
      "provenance": [],
      "authorship_tag": "ABX9TyPCbyL0BebfodO/Y28EvwWK",
      "include_colab_link": true
    },
    "kernelspec": {
      "name": "python3",
      "display_name": "Python 3"
    },
    "language_info": {
      "name": "python"
    }
  },
  "cells": [
    {
      "cell_type": "markdown",
      "metadata": {
        "id": "view-in-github",
        "colab_type": "text"
      },
      "source": [
        "<a href=\"https://colab.research.google.com/github/Maheshkumar145/ML-Assignment/blob/main/ML_Assignment_03.ipynb\" target=\"_parent\"><img src=\"https://colab.research.google.com/assets/colab-badge.svg\" alt=\"Open In Colab\"/></a>"
      ]
    },
    {
      "cell_type": "markdown",
      "source": [
        "**1.Explain the term machine learning, and how does it work? Explain two machine learning applications in the business world. What are some of the ethical concerns that machine learning applications could raise?**\n",
        "\n",
        "**Ans:** Machine learning (ML) is a type of artificial intelligence (AI) that allows software applications to become more accurate at predicting outcomes without being explicitly programmed to do so. Machine learning algorithms use historical data as input to predict new output values.\n",
        "\n",
        "**Self-driving cars:** Machine learning algorithms can even make it possible for a semi-autonomous car to recognize a partially visible object and alert the driver.\n",
        "\n",
        "**Virtual assistants:** Smart assistants typically combine supervised and unsupervised machine learning models to interpret natural speech and supply context.\n",
        "\n",
        "**Accuracy:**\n",
        "The accuracy of an ML model is the proportion of examples for which it generates a correct output. In general high accuracy is a good thing, and low accuracy can lead to harms, for example where facial recognition systems are used in law enforcement. But highly accurate facial recognition systems can also pose risks to privacy and autonomy ."
      ],
      "metadata": {
        "id": "b9_exSqcAJ5M"
      }
    },
    {
      "cell_type": "markdown",
      "source": [
        "**2. Describe the process of human learning:**\n",
        "\n",
        "**i. Under the supervision of experts:**In this type of learning well experienced person try to teach this thing in well mannered way so that accuracy is good.Any errors will rectified at instant solearning process is fast as compare to other type of learning process.\n",
        "\n",
        "**ii. With the assistance of experts in an indirect manner:** Indirect guidance is provided through learners actively observing, listening, and engaging with social practices which serve to furnish models and goals for performance and individuals learning.\n",
        "\n",
        "**iii. Self-education:** Self-learning is an approach to learning where the individual makes the effort to identify their own learning needs, set learning goals, find the necessary resources, and evaluate their own knowledge."
      ],
      "metadata": {
        "id": "rtwkJ1jVAG7E"
      }
    },
    {
      "cell_type": "markdown",
      "source": [
        "**3. Provide a few examples of various types of machine learning?**\n",
        "\n",
        "**Ans:**\n",
        "\n",
        "Supervised Learning: Predicting the failure of industrial equipment's mechanical parts.\n",
        "\n",
        "Unsupervised Learning: Grouping inventory according to sales and/or manufacturing metrics.\n",
        "\n",
        "Reinforcement Learning:Teaching cars to park themselves and drive autonomously."
      ],
      "metadata": {
        "id": "3p9sVzk8ACzO"
      }
    },
    {
      "cell_type": "markdown",
      "source": [
        "**4. Examine the various forms of machine learning?**\n",
        "\n",
        "**Ans:**\n",
        "\n",
        "1. **Supervised learning** is a type of machine learning that uses labeled data to train machine learning models. In labeled data, the output is already known. The model just needs to map the inputs to the respective outputs. \n",
        "\n",
        "2. **Unsupervised learning** is a type of machine learning that uses unlabeled data to train machines. Unlabeled data doesn’t have a fixed output variable. The model learns from the data, discovers the patterns and features in the data, and returns the output. \n",
        "\n",
        "3. **Reinforcement Learning** trains a machine to take suitable actions and maximize its rewards in a particular situation. It uses an agent and an environment to produce actions and rewards."
      ],
      "metadata": {
        "id": "DOTtHEkNAA7c"
      }
    },
    {
      "cell_type": "markdown",
      "source": [
        "**5. Can you explain what a well-posed learning problem is? Explain the main characteristics that must be present to identify a learning problem properly.**\n",
        "\n",
        "**Ans:** The formal definition of Well posed learning problem is, “A computer program is said to learn from Experience E when given a task T, and some performance measure P. If it performs on T with a performance measure P, then it upgrades with experience E\n",
        "\n",
        "Example:A computer might improve its performance as an ability to win at the class of tasks that are about playing checkers. The performance keeps improving through experience by playing against itself. "
      ],
      "metadata": {
        "id": "fwor5VCr__tU"
      }
    },
    {
      "cell_type": "markdown",
      "source": [
        "**6. Is machine learning capable of solving all problems? Give a detailed explanation of your answer?**\n",
        "\n",
        "**Ans:** No,It can't solve problem unless it got trained and in practical world mostly things are unpredictable which make hard to train."
      ],
      "metadata": {
        "id": "rzvekQL8_-G0"
      }
    },
    {
      "cell_type": "markdown",
      "source": [
        "**7. What are the various methods and technologies for solving machine learning problems? Any two of them should be defined in detail.**\n",
        "\n",
        "**Ans:** Machine learning uses two types of techniques: supervised learning, which trains a model on known input and output data so that it can predict future outputs, and unsupervised learning, which finds hidden patterns or intrinsic structures in input data."
      ],
      "metadata": {
        "id": "RMVae5wm_8tt"
      }
    },
    {
      "cell_type": "markdown",
      "source": [
        "**8. Can you explain the various forms of supervised learning? Explain each one with an example application.**\n",
        "\n",
        "**Ans:** \n",
        "\n",
        "**Regression:**\n",
        "\n",
        "Regression algorithms are used if there is a relationship between the input variable and the output variable. It is used for the prediction of continuous variables, such as Weather forecasting, Market Trends, etc.\n",
        "\n",
        "**Classification:**\n",
        "\n",
        "Classification algorithms are used when the output variable is categorical, which means there are two classes such as Yes-No, Male-Female, True-false, etc."
      ],
      "metadata": {
        "id": "TJqDL9DX_7QM"
      }
    },
    {
      "cell_type": "markdown",
      "source": [
        "**9. What is the difference between supervised and unsupervised learning?**\n",
        "\n",
        "**Ans:** The main distinction between the two approaches is the use of labeled datasets. To put it simply, supervised learning uses labeled input and output data, while an unsupervised learning algorithm does not."
      ],
      "metadata": {
        "id": "rgvdW6P3_5uO"
      }
    },
    {
      "cell_type": "markdown",
      "source": [
        "**10. Describe the machine learning process in depth.Make brief notes of the following:**\n",
        "\n",
        "**1. Deep learning applications in healthcare:**\n",
        "Deep learning is steadily making its way into novel technologies with high-value applications in the real-world clinical setting. Innovative patient-facing applications and a few surprisingly well-established tactics for improving the health IT user experience are among the most promising use cases.\n",
        "* Drug Development\n",
        "* Imaging In Medicine\n",
        "* Audit Of Prescriptions\n",
        "\n",
        "**2. Linear regression (simple):**\n",
        "Linear regression analysis is used to predict the value of a variable based on the value of another variable. The variable you want to predict is called the dependent variable. The variable you are using to predict the other variable's value is called the independent variable."
      ],
      "metadata": {
        "id": "MNZfCVdC_3S0"
      }
    },
    {
      "cell_type": "markdown",
      "source": [
        "**11. Make a comparison between:-**\n",
        "\n",
        "**Generalization and abstraction:**\n",
        "Abstraction refers to the process of identifying common features of a set of objects or concepts, and disregarding their specific details. It involves focusing on the essential characteristics of an object or concept, and ignoring its non-essential features.\n",
        "\n",
        "Generalization refers to the process of inferring a general rule or principle from specific examples or observations. It involves making broad statements or conclusions based on limited information or data.\n",
        "\n",
        "**Regression and classification:** The most significant difference between regression vs classification is that while regression helps predict a continuous quantity, classification predicts discrete class labels. There are also some overlaps between the two types of machine learning algorithms.\n",
        "\n",
        "* A regression algorithm can predict a discrete value which is in the form of an integer quantity\n",
        "* A classification algorithm can predict a continuous value if it is in the form of a class label probability"
      ],
      "metadata": {
        "id": "nR-jXgGE_yTl"
      }
    }
  ]
}