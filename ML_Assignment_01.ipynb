{
  "nbformat": 4,
  "nbformat_minor": 0,
  "metadata": {
    "colab": {
      "provenance": []
    },
    "kernelspec": {
      "name": "python3",
      "display_name": "Python 3"
    },
    "language_info": {
      "name": "python"
    }
  },
  "cells": [
    {
      "cell_type": "markdown",
      "source": [
        "**1. What does one mean by the term \"machine learning\"?**\n",
        "\n",
        "**Ans:** Machine learning is a subfield of artificial intelligence, which is broadly defined as the capability of a machine to imitate intelligent human behavior. Artificial intelligence systems are used to perform complex tasks in a way that is similar to how humans solve problems"
      ],
      "metadata": {
        "id": "DGQtpMdamkEE"
      }
    },
    {
      "cell_type": "markdown",
      "source": [
        "**2.Can you think of 4 distinct types of issues where it shines?**\n",
        "\n",
        "**Ans:** Machine learning algorithms have had good results on problems such has spam detection in email, cancer diagnosis, fraudulent credit card transactions, and automatically driving vehicles."
      ],
      "metadata": {
        "id": "5ix9UhBMmjBM"
      }
    },
    {
      "cell_type": "markdown",
      "source": [
        "**3.What is a labeled training set, and how does it work?**\n",
        "\n",
        "**Ans:** Labeled training data is used in supervised learning. It enables ML models to learn the characteristics associated with specific labels, which can be used to classify newer data points."
      ],
      "metadata": {
        "id": "abM_OSzUmg2s"
      }
    },
    {
      "cell_type": "markdown",
      "source": [
        "**4.What are the two most important tasks that are supervised?**\n",
        "\n",
        "**Ans:** The two most common supervised learning tasks are regression and classification. In a regression problem we our prediciton is a scalar value. When we're trying to solve a classification problem, our output is either 1 or 0."
      ],
      "metadata": {
        "id": "iCg0INJjmfi0"
      }
    },
    {
      "cell_type": "markdown",
      "source": [
        "**5.Can you think of four examples of unsupervised tasks?** \n",
        "\n",
        "**Ans:**\n",
        "\n",
        "clustering\n",
        "\n",
        "visualization\n",
        "\n",
        "dimensionality reduction \n",
        "\n",
        "association rule learning"
      ],
      "metadata": {
        "id": "u_FvxQQYmdEW"
      }
    },
    {
      "cell_type": "markdown",
      "source": [
        "**6.State the machine learning model that would be best to make a robot walk through various unfamiliar terrains?**\n",
        "\n",
        "**Ans:** Deep Reinforcement Learning\n",
        "\n"
      ],
      "metadata": {
        "id": "SyHk3FUhmaq-"
      }
    },
    {
      "cell_type": "markdown",
      "source": [
        "**7.Which algorithm will you use to divide your customers into different groups?**\n",
        "\n",
        "**Ans:** \n",
        "\n",
        "If i know types of customer then i use supervisied learning.\n",
        "\n",
        "if not i will use unsupervisied learning i.e.,clustering\n",
        "\n"
      ],
      "metadata": {
        "id": "xtOq3c8EmX8O"
      }
    },
    {
      "cell_type": "markdown",
      "source": [
        "**8.Will you consider the problem of spam detection to be a supervised or unsupervised learning problem?**\n",
        "\n",
        "**Ans:** Spam detection is a typical supervised learning problem."
      ],
      "metadata": {
        "id": "-mv3W63umU5U"
      }
    },
    {
      "cell_type": "markdown",
      "source": [
        "**9.What is the concept of an online learning system?**\n",
        "\n",
        "**Ans:** An online learning system can learn incrementally, as opposed to a batch learn‐ ing system. This makes it capable of adapting rapidly to both changing data and autonomous systems, and of training on very large quantities of data."
      ],
      "metadata": {
        "id": "PlZkHvcBmTYc"
      }
    },
    {
      "cell_type": "markdown",
      "source": [
        "**10.What is out-of-core learning, and how does it differ from core learning?**\n",
        "\n",
        "**Ans:**\n",
        "\n",
        "Core learning means the solver can hold the entire matrix in RAM for solving. \n",
        "\n",
        "Out-of-core learning refers to the machine learning algorithms working with data that cannot fit into a single machine's memory but can easily fit into some data storage, such as a local hard disk"
      ],
      "metadata": {
        "id": "FMW-TXHOmR2M"
      }
    },
    {
      "cell_type": "markdown",
      "source": [
        "**11.What kind of learning algorithm makes predictions using a similarity measure?**\n",
        "\n",
        "**Ans:** Instance-based learning algorithms use a measure of similarity to generalize to new cases. In an instance-based learning system, the algorithm learns the examples by heart, then uses the similarity measure to generalize."
      ],
      "metadata": {
        "id": "RxbeO263mQkW"
      }
    },
    {
      "cell_type": "markdown",
      "source": [
        "**12.What's the difference between a model parameter and a hyperparameter in a learning algorithm?** \n",
        "\n",
        "**Ans:** \n",
        "\n",
        "A model has one or more model parameters that determine what it will predict given a new instance. A learning algorithm tries to find optimal values for these parameters such that the model generalizes well to new instances.\n",
        "\n",
        "A hyperparameter is a parameter of the learning algorithm itself, not of the model."
      ],
      "metadata": {
        "id": "jYCf6ODqmMpc"
      }
    },
    {
      "cell_type": "markdown",
      "source": [
        "**13.What are the criteria that model-based learning algorithms look for? What is the most popular method they use to achieve success? What method do they use to make predictions?**\n",
        "\n",
        "**Ans:** \n",
        "The goal for a model-based algorithm is to be able to generalize to new examples. To do this, model based algorithms search for optimal values for the model's parameters, often called theta. This searching, or \"learning\", is what machine learning is all about. Model-based system learn by minimizing a cost function that measures how bad the system is at making predicitons on new data, plus a penalty for model complexity if the model is regularized. To make a prediction, a new instance's features are fed into a hypothesis function which uses the minimized theta found by repeatedly running the cost function."
      ],
      "metadata": {
        "id": "5HRXmkP-mKgM"
      }
    },
    {
      "cell_type": "markdown",
      "source": [
        "**14.Can you name four of the most important Machine Learning challenges?**\n",
        "\n",
        "**Ans:**  \n",
        "\n",
        "Lack of data\n",
        "\n",
        "Poor data quality\n",
        "\n",
        "Nonrepresentative data \n",
        "\n",
        "Uninformative features \n",
        "\n",
        "Underfitting\n",
        "\n",
        "Overfitting"
      ],
      "metadata": {
        "id": "v5iimoNxmH_M"
      }
    },
    {
      "cell_type": "markdown",
      "source": [
        "**15.What happens if the model performs well on the training data but fails to generalize the results to new situations? Can you think of three different options?**\n",
        "\n",
        "**Ans:** Overfitting is the reason.\n",
        "\n",
        "Counters:\n",
        "Getting more data, \n",
        "Simplifying the model\n",
        "Reducing the noise in the training data."
      ],
      "metadata": {
        "id": "TmbKWOxzmGJV"
      }
    },
    {
      "cell_type": "markdown",
      "source": [
        "**16.What exactly is a test set, and why would you need one?**\n",
        "\n",
        "**Ans:** A test set in machine learning is a secondary data set that is used to test a machine learning program after it has been trained on an initial training data set."
      ],
      "metadata": {
        "id": "xlNIi0RBmCgE"
      }
    },
    {
      "cell_type": "markdown",
      "source": [
        "**17.What is a validation set's purpose?**\n",
        "\n",
        "**Ans:** A validation set is used to compare models. After training, the fitted model is used to predict the responses for the observations in the validation dataset.\n",
        "\n"
      ],
      "metadata": {
        "id": "X79sYFk5mAZE"
      }
    },
    {
      "cell_type": "markdown",
      "source": [
        "**18.What precisely is the train-dev kit, when will you need it, how do you put it to use?**\n",
        "\n",
        "**Ans:** The goal of dev-set is to rank the models in term of their accuracy and helps us decide which model to proceed further with. Using Dev set we rank all our models in terms of their accuracy and pick the best performing model."
      ],
      "metadata": {
        "id": "BsRtKtK4l-j0"
      }
    },
    {
      "cell_type": "markdown",
      "source": [
        "**19.What could go wrong if you use the test set to tune hyperparameters?**\n",
        "\n",
        "**Ans:**  Tuning of hyperparameters using the test set will lead to overfitting.\n",
        "\n"
      ],
      "metadata": {
        "id": "MhgSXAcSl84M"
      }
    }
  ]
}