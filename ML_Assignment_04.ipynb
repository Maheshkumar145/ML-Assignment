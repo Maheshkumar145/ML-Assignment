{
  "nbformat": 4,
  "nbformat_minor": 0,
  "metadata": {
    "colab": {
      "provenance": [],
      "authorship_tag": "ABX9TyOKFuLgKW9vPq+I3Tf4ObCX",
      "include_colab_link": true
    },
    "kernelspec": {
      "name": "python3",
      "display_name": "Python 3"
    },
    "language_info": {
      "name": "python"
    }
  },
  "cells": [
    {
      "cell_type": "markdown",
      "metadata": {
        "id": "view-in-github",
        "colab_type": "text"
      },
      "source": [
        "<a href=\"https://colab.research.google.com/github/Maheshkumar145/ML-Assignment/blob/main/ML_Assignment_04.ipynb\" target=\"_parent\"><img src=\"https://colab.research.google.com/assets/colab-badge.svg\" alt=\"Open In Colab\"/></a>"
      ]
    },
    {
      "cell_type": "markdown",
      "source": [
        "**1. What are the key tasks involved in getting ready to work with machine learning modeling?**\n",
        "\n",
        "**Ans:** \n",
        "\n",
        "There are 7 steps involved in model preparation:\n",
        "\n",
        "    1.Collect data\n",
        "    2.Prepare the data\n",
        "    3.Choose the model\n",
        "    4.Train the Machine model\n",
        "    5.Evalution\n",
        "    6.Parameter Tuning\n",
        "    7.Prediction\n"
      ],
      "metadata": {
        "id": "t1T3Ynp1B3K9"
      }
    },
    {
      "cell_type": "markdown",
      "source": [
        "**2. What are the different forms of data used in machine learning? Give a specific example for each of them.**\n",
        "\n",
        "**Ans:** Machine learning models rely on four primary data types. These include numerical data, categorical data, time series data, and text data."
      ],
      "metadata": {
        "id": "nGA1ddzVB1td"
      }
    },
    {
      "cell_type": "markdown",
      "source": [
        "**3. Distinguish:**\n",
        "\n",
        "**Numeric vs. categorical attributes:**\n",
        "\n",
        "Numerical data is used to mean anything represented by numbers (floating point or integer).\n",
        "\n",
        "Categorical data generally means everything else and in particular discrete labeled groups are often called out.\n",
        "\n",
        "**Feature selection vs. dimensionality reduction:** \n",
        "\n",
        "Feature selection is simply selecting and excluding given features without changing them. \n",
        "\n",
        "Dimensionality reduction transforms features into a lower dimension."
      ],
      "metadata": {
        "id": "Le7jTRXPB0UN"
      }
    },
    {
      "cell_type": "markdown",
      "source": [
        "**4. Make quick notes on any two of the following:**\n",
        "\n",
        "**1. The histogram :** \n",
        "\n",
        "A histogram is a graph used to represent the frequency distribution of a few data points of one variable. Histograms often classify data into various bins or range groups and count how many data points belong to each of those bins.\n",
        "\n",
        "**2. Use a scatter plot :**\n",
        "\n",
        "Scatter plots are used to plot data points on a horizontal and a vertical axis in the attempt to show how much one variable is affected by another. Each row in the data table is represented by a marker whose position depends on its values in the columns set on the X and Y axes.\n",
        "\n",
        "**3.PCA (Personal Computer Aid) :** The Principal Component Analysis is a popular unsupervised learning technique for reducing the dimensionality of data. It increases interpretability yet, at the same time, it minimizes information loss. It helps to find the most significant features in a dataset and makes the data easy for plotting in 2D and 3D."
      ],
      "metadata": {
        "id": "yj9N13UIBywd"
      }
    },
    {
      "cell_type": "markdown",
      "source": [
        "**5. Why is it necessary to investigate data? Is there a discrepancy in how qualitative and quantitative data are explored?**\n",
        "\n",
        "**Ans:** The combination of qualitative and quantitative data can also lead to clashes in the philosophical assumptions behind each approach and therefore recommendations have been made for triangulation to be carried out from a pragmatic, or subtle realist, approach."
      ],
      "metadata": {
        "id": "pN8C2jEKBxAW"
      }
    },
    {
      "cell_type": "markdown",
      "source": [
        "**6. What are the various histogram shapes? What exactly are ‘bins'?**\n",
        "\n",
        "**Ans:** \n",
        "\n",
        "Types of histograms: \n",
        "\n",
        "    1.Uniform histogram. \n",
        "\n",
        "    2.Symmetric histogram. \n",
        "\n",
        "    3.Bimodal histogram.\n",
        "\n",
        "Binning is the process of transforming numerical variables into their categorical counterparts. This process improves the accuracy of predictive models by reducing noise or non-linearity in the dataset. Binning is primarily of two types: distance and frequency based"
      ],
      "metadata": {
        "id": "T2cBqk11BvqG"
      }
    },
    {
      "cell_type": "markdown",
      "source": [
        "**7. How do we deal with data outliers?**\n",
        "\n",
        "**Ans:**\n",
        "\n",
        "    1.Deleting observations\n",
        "\n",
        "    2.Transforming values\n",
        "\n",
        "    3.Imputation\n",
        "\n",
        "    4.Separately treating\n",
        "\n",
        "    5.Deleting observations"
      ],
      "metadata": {
        "id": "tw6j0y-IBuRd"
      }
    },
    {
      "cell_type": "markdown",
      "source": [
        "**8. What are the various central inclination measures? Why does mean vary too much from median in certain data sets?**\n",
        "\n",
        "**Ans:** _MEAN_ _MEDIAN_ _MODE_ are 3 central inclination measures.\n",
        "\n",
        "Mean is simple and can be applied to any data array set, whether even or odd. The median is slightly complex, and the data set needs to be arranged in ascending or descending order before calculation. The mean is generally used for normal distributions."
      ],
      "metadata": {
        "id": "6YzeQf3SBtHV"
      }
    },
    {
      "cell_type": "markdown",
      "source": [
        "**9. Describe how a scatter plot can be used to investigate bivariate relationships. Is it possible to find outliers using a scatter plot?**\n",
        "\n",
        "**Ans:** A scatterplot shows the relationship between two quantitative variables measured for the same individuals. The values of one variable appear on the horizontal axis, and the values of the other variable appear on the vertical axis. Each individual in the data appears as a point on the graph.\n",
        "\n",
        "Yes, it is possible to find outliers using scatter plots."
      ],
      "metadata": {
        "id": "lIgZiTtjBr2M"
      }
    },
    {
      "cell_type": "markdown",
      "source": [
        "**10. Describe how cross-tabs can be used to figure out how two variables are related.**\n",
        "\n",
        "**Ans:** Cross tabulation is a method to quantitatively analyze the relationship between multiple variables. Also known as contingency tables or cross tabs, cross tabulation groups variables to understand the correlation between different variables. It also shows how correlations change from one variable grouping to another."
      ],
      "metadata": {
        "id": "wOmhHkD5BqVP"
      }
    }
  ]
}